{
 "cells": [
  {
   "cell_type": "markdown",
   "id": "ae195f0b",
   "metadata": {},
   "source": [
    "## Write a program to check if a number is even or odd"
   ]
  },
  {
   "cell_type": "code",
   "execution_count": 1,
   "id": "8bb95155",
   "metadata": {},
   "outputs": [
    {
     "name": "stdout",
     "output_type": "stream",
     "text": [
      "Enter a number7\n",
      "Odd\n"
     ]
    }
   ],
   "source": [
    "a=int(input(\"Enter a number \"))\n",
    "if(a%2==0):\n",
    "    print(\"Even\")\n",
    "else:\n",
    "    print(\"Odd\")\n"
   ]
  },
  {
   "cell_type": "markdown",
   "id": "208f3342",
   "metadata": {},
   "source": [
    "## Write a program to check whether an alphabet is vowel or consonant"
   ]
  },
  {
   "cell_type": "code",
   "execution_count": 3,
   "id": "b2ae3a73",
   "metadata": {},
   "outputs": [
    {
     "name": "stdout",
     "output_type": "stream",
     "text": [
      "Enter an alphabet r\n",
      "Consonant\n"
     ]
    }
   ],
   "source": [
    "a=str(input(\"Enter an alphabet \"))\n",
    "if(a=='a' or a=='e' or a=='i' or a=='o' or a=='u'):\n",
    "    print(\"Vowel\")\n",
    "else:\n",
    "    print(\"Consonant\")"
   ]
  },
  {
   "cell_type": "markdown",
   "id": "d2ef549f",
   "metadata": {},
   "source": [
    "## Write a program to check if a person is eligible to vote or not"
   ]
  },
  {
   "cell_type": "code",
   "execution_count": 5,
   "id": "bcd9b3ec",
   "metadata": {},
   "outputs": [
    {
     "name": "stdout",
     "output_type": "stream",
     "text": [
      "Enter the age 8\n",
      "Not Eligible\n"
     ]
    }
   ],
   "source": [
    "a=int(input(\"Enter the age \"))\n",
    "if(a>=18):\n",
    "    print(\"Eligible\")\n",
    "else:\n",
    "    print(\"Not Eligible\")"
   ]
  },
  {
   "cell_type": "markdown",
   "id": "b1fae648",
   "metadata": {},
   "source": [
    "## Write a program to check if a number is positive, negative or zero"
   ]
  },
  {
   "cell_type": "code",
   "execution_count": 2,
   "id": "a1c06047",
   "metadata": {},
   "outputs": [
    {
     "name": "stdout",
     "output_type": "stream",
     "text": [
      "Enter a number 0\n",
      "Zero\n"
     ]
    }
   ],
   "source": [
    "a=int(input(\"Enter a number \"))\n",
    "if(a>0):\n",
    "    print(\"Positive\")\n",
    "if(a<0):\n",
    "    print(\"Negative\")\n",
    "if(a==0):\n",
    "    print(\"Zero\")"
   ]
  },
  {
   "cell_type": "markdown",
   "id": "714abc26",
   "metadata": {},
   "source": [
    "## Write a program to check if a given year is leap year or not"
   ]
  },
  {
   "cell_type": "code",
   "execution_count": 4,
   "id": "e64b3167",
   "metadata": {},
   "outputs": [
    {
     "name": "stdout",
     "output_type": "stream",
     "text": [
      "Enter year 2015\n",
      "Non leap year\n"
     ]
    }
   ],
   "source": [
    "a=int(input(\"Enter year \"))\n",
    "if(a%4==0):\n",
    "    print(\"Leap Year\")\n",
    "else:\n",
    "    print(\"Non leap year\")"
   ]
  },
  {
   "cell_type": "markdown",
   "id": "458abe0e",
   "metadata": {},
   "source": [
    "## Write a program to check if a triangle is equilateral, isosceles or scalene"
   ]
  },
  {
   "cell_type": "code",
   "execution_count": 2,
   "id": "722c49f3",
   "metadata": {},
   "outputs": [
    {
     "name": "stdout",
     "output_type": "stream",
     "text": [
      "Enter 1st side 7\n",
      "Enter 2nd side 9\n",
      "Enter 3rd side 6\n",
      "Scalene Triangle\n"
     ]
    }
   ],
   "source": [
    "a=int(input(\"Enter 1st side \"))\n",
    "b=int(input(\"Enter 2nd side \"))\n",
    "c=int(input(\"Enter 3rd side \"))\n",
    "if(a==b==c):\n",
    "    print(\"Equilateral Triangle\")\n",
    "if(a==b!=c or a!=b==c or a==c!=b):\n",
    "    print(\"Isosceles Triangle\")\n",
    "if(a!=b!=c or a!=b!=c or a!=c!=b):\n",
    "    print(\"Scalene Triangle\")"
   ]
  },
  {
   "cell_type": "markdown",
   "id": "4269f27a",
   "metadata": {},
   "source": [
    "## Write a program to check whether after selling a product there is profit or loss"
   ]
  },
  {
   "cell_type": "code",
   "execution_count": 5,
   "id": "29ed09ce",
   "metadata": {},
   "outputs": [
    {
     "name": "stdout",
     "output_type": "stream",
     "text": [
      "Enter the cost price 90\n",
      "Enter the Selling price 50\n",
      "Loss= 40\n"
     ]
    }
   ],
   "source": [
    "CP=int(input(\"Enter the cost price \"))\n",
    "SP=int(input(\"Enter the Selling price \"))\n",
    "if(SP>CP):\n",
    "    print(\"Profit=\",SP-CP)\n",
    "if(SP<CP):\n",
    "    print(\"Loss=\",CP-SP)\n",
    "if(SP==CP):\n",
    "    print(\"No profit no loss\")"
   ]
  },
  {
   "cell_type": "markdown",
   "id": "7a783e82",
   "metadata": {},
   "source": [
    "## Write a program to enter two numbers and print the greater number."
   ]
  },
  {
   "cell_type": "code",
   "execution_count": 9,
   "id": "561d1777",
   "metadata": {},
   "outputs": [
    {
     "name": "stdout",
     "output_type": "stream",
     "text": [
      "Enter 1st no. 6\n",
      "Enter 2nd no. 4\n",
      "greater number is 6\n"
     ]
    }
   ],
   "source": [
    "a=int(input(\"Enter 1st no. \"))\n",
    "b=int(input(\"Enter 2nd no. \"))\n",
    "if(a>b):\n",
    "    print(\"greater number is\",a)\n",
    "else:\n",
    "    print(\"greater number is\",b)\n",
    "        "
   ]
  },
  {
   "cell_type": "markdown",
   "id": "34faa89d",
   "metadata": {},
   "source": [
    "## Write a program to enter two numbers and print the smaller number."
   ]
  },
  {
   "cell_type": "code",
   "execution_count": 10,
   "id": "524d0140",
   "metadata": {},
   "outputs": [
    {
     "name": "stdout",
     "output_type": "stream",
     "text": [
      "Enter 1st no. 4\n",
      "Enter 2nd no. 5\n",
      "smaller number is  4\n"
     ]
    }
   ],
   "source": [
    "a=int(input(\"Enter 1st no. \"))\n",
    "b=int(input(\"Enter 2nd no. \"))\n",
    "if(a<b):\n",
    "    print(\"smaller number is \",a)\n",
    "else:\n",
    "    print(\"smaller number is \",b)"
   ]
  },
  {
   "cell_type": "markdown",
   "id": "431cbd66",
   "metadata": {},
   "source": [
    "## Write a program to enter three numbers and print the greatest number."
   ]
  },
  {
   "cell_type": "code",
   "execution_count": 11,
   "id": "705668da",
   "metadata": {},
   "outputs": [
    {
     "name": "stdout",
     "output_type": "stream",
     "text": [
      "Enter 1st no. 5\n",
      "Enter 2nd no. 8\n",
      "Enter 3rd no. 4\n",
      "greatest number is  8\n"
     ]
    }
   ],
   "source": [
    "a=int(input(\"Enter 1st no. \"))\n",
    "b=int(input(\"Enter 2nd no. \"))\n",
    "c=int(input(\"Enter 3rd no. \"))\n",
    "if(a>b and a>c):\n",
    "    print(\"greatest number is \",a)\n",
    "elif(b>a and b>c):\n",
    "    print(\"greatest number is \",b)\n",
    "else:\n",
    "    print(\"greatest number is \",c)\n",
    "    "
   ]
  },
  {
   "cell_type": "markdown",
   "id": "f1c32e64",
   "metadata": {},
   "source": [
    "## Write a program to enter three numbers and print the smallest number."
   ]
  },
  {
   "cell_type": "code",
   "execution_count": 12,
   "id": "9eef609f",
   "metadata": {},
   "outputs": [
    {
     "name": "stdout",
     "output_type": "stream",
     "text": [
      "Enter 1st no. 2\n",
      "Enter 2nd no. 7\n",
      "Enter 3rd no. 1\n",
      "smallest number is  1\n"
     ]
    }
   ],
   "source": [
    "a=int(input(\"Enter 1st no. \"))\n",
    "b=int(input(\"Enter 2nd no. \"))\n",
    "c=int(input(\"Enter 3rd no. \"))\n",
    "if(a<b and a<c):\n",
    "    print(\"smallest number is \",a)\n",
    "elif(b<a and b<c):\n",
    "    print(\"smallest number is \",b)\n",
    "else:\n",
    "    print(\"smallest number is \",c)"
   ]
  },
  {
   "cell_type": "markdown",
   "id": "326964f4",
   "metadata": {},
   "source": [
    "## Write a program to calculate roots of quadratic equation"
   ]
  },
  {
   "cell_type": "code",
   "execution_count": 20,
   "id": "5c28858a",
   "metadata": {},
   "outputs": [
    {
     "name": "stdout",
     "output_type": "stream",
     "text": [
      "Enter 1st no. 3\n",
      "Enter 2nd no. -2\n",
      "Enter 3rd no. -1\n",
      "1st Root is 1.0\n",
      "2nd root is -0.3333333333333333\n"
     ]
    }
   ],
   "source": [
    "a=int(input(\"Enter 1st no. \"))\n",
    "b=int(input(\"Enter 2nd no. \"))\n",
    "c=int(input(\"Enter 3rd no. \"))\n",
    "x1=(-b + (b ** 2 - 4 * a * c) ** 0.5) / (2 * a)\n",
    "x2=(-b - (b ** 2 - 4 * a * c) ** 0.5) / (2 * a)\n",
    "print(\"1st Root is\",x1)\n",
    "print(\"2nd root is\",x2)"
   ]
  },
  {
   "cell_type": "markdown",
   "id": "93b9262d",
   "metadata": {},
   "source": [
    "## Write a program to enter no. from 1-7 and print the respective day of the week."
   ]
  },
  {
   "cell_type": "markdown",
   "id": "a10c8af7",
   "metadata": {},
   "source": [
    "### Using if- else"
   ]
  },
  {
   "cell_type": "code",
   "execution_count": 28,
   "id": "c71bc69f",
   "metadata": {},
   "outputs": [
    {
     "name": "stdout",
     "output_type": "stream",
     "text": [
      "Enter a number from 1-7 5\n",
      "Thursday\n"
     ]
    }
   ],
   "source": [
    "num=int(input(\"Enter a number from 1-7 \"))\n",
    "if(num==1):\n",
    "    print(\"Sunday\")\n",
    "elif(num==2):\n",
    "    print(\"Monday\")\n",
    "elif(num==3):\n",
    "    print(\"Tuesday\")\n",
    "elif(num==4):\n",
    "    print(\"Wednesday\")\n",
    "elif(num==5):\n",
    "    print(\"Thursday\")\n",
    "elif(num==6):\n",
    "    print(\"Friday\")\n",
    "elif(num==7):\n",
    "    print(\"Saturday\")\n",
    "else:\n",
    "    print(\"Please enter a valid number\")"
   ]
  },
  {
   "cell_type": "markdown",
   "id": "dde291ce",
   "metadata": {},
   "source": [
    "### Using key and value"
   ]
  },
  {
   "cell_type": "code",
   "execution_count": 27,
   "id": "27fe249c",
   "metadata": {},
   "outputs": [
    {
     "name": "stdout",
     "output_type": "stream",
     "text": [
      "Enter a no. 6\n"
     ]
    },
    {
     "data": {
      "text/plain": [
       "'Friday'"
      ]
     },
     "execution_count": 27,
     "metadata": {},
     "output_type": "execute_result"
    }
   ],
   "source": [
    "a=int(input(\"Enter a no. \"))\n",
    "day={1:\"Sunday\",2:\"Monday\",3:\"Tuesday\",4:\"Wednesday\",5:\"Thursday\",6:\"Friday\",7:\"Saturday\"}\n",
    "day[a]"
   ]
  },
  {
   "cell_type": "markdown",
   "id": "5b91c0b0",
   "metadata": {},
   "source": [
    "### Write a program to enter a number from 1-12 and display the respective month"
   ]
  },
  {
   "cell_type": "code",
   "execution_count": 1,
   "id": "ee077e53",
   "metadata": {},
   "outputs": [
    {
     "name": "stdout",
     "output_type": "stream",
     "text": [
      "Enter a number from 1-12 5\n",
      "May\n"
     ]
    }
   ],
   "source": [
    "num=int(input(\"Enter a number from 1-12 \"))\n",
    "if(num==1):\n",
    "    print(\"Jan\")\n",
    "elif(num==2):\n",
    "    print(\"Feb\")\n",
    "elif(num==3):\n",
    "    print(\"Mar\")\n",
    "elif(num==4):\n",
    "    print(\"Apr\")\n",
    "elif(num==5):\n",
    "    print(\"May\")\n",
    "elif(num==6):\n",
    "    print(\"June\")\n",
    "elif(num==7):\n",
    "    print(\"July\")\n",
    "elif(num==8):\n",
    "    print(\"Aug\")    \n",
    "elif(num==9):\n",
    "    print(\"Sept\")    \n",
    "elif(num==10):\n",
    "    print(\"Oct\")\n",
    "elif(num==11):\n",
    "    print(\"Nov\")\n",
    "elif(num==12):\n",
    "    print(\"Dec\")\n",
    "else:\n",
    "    print(\"Please enter a valid number\")"
   ]
  },
  {
   "cell_type": "markdown",
   "id": "f35da487",
   "metadata": {},
   "source": [
    "## Write a program to enter a number from 1-4 and perform the operations(Addition,Subtraction, Multiplication, Division)"
   ]
  },
  {
   "cell_type": "code",
   "execution_count": 3,
   "id": "8f04b8e0",
   "metadata": {},
   "outputs": [
    {
     "name": "stdout",
     "output_type": "stream",
     "text": [
      "Enter a number from 1-4 2\n",
      "Enter 1st number 7\n",
      "Enter 2nd number 9\n",
      "Difference is  -2\n"
     ]
    }
   ],
   "source": [
    "num=int(input(\"Enter a number from 1-4 \"))\n",
    "a=int(input(\"Enter 1st number \"))\n",
    "b=int(input(\"Enter 2nd number \"))\n",
    "if(num==1):\n",
    "    print(\"Sum is \",a+b)\n",
    "if(num==2):\n",
    "    print(\"Difference is \",a-b)\n",
    "if(num==3):\n",
    "    print(\"Product is \", a*b)\n",
    "if(num==4):\n",
    "    print(\"Division is \",a/b)"
   ]
  },
  {
   "cell_type": "markdown",
   "id": "8dea641b",
   "metadata": {},
   "source": [
    "### Write a program to convert temp. to and from celsius, fahrenheit"
   ]
  },
  {
   "cell_type": "code",
   "execution_count": 13,
   "id": "0b456c1b",
   "metadata": {},
   "outputs": [
    {
     "name": "stdout",
     "output_type": "stream",
     "text": [
      "Enter a temperature in C or F 100F\n",
      "Temp in C is  37.77777777777778\n"
     ]
    }
   ],
   "source": [
    "temp=input(\"Enter a temperature in C or F \")\n",
    "deg=int(temp[:-1])\n",
    "if(temp[-1]=='C'):\n",
    "    fah=((deg*9)/5)+32\n",
    "    print(\"Temp in F is \", fah)\n",
    "elif(temp[-1]=='F'):\n",
    "    cel=((deg-32)*5)/9\n",
    "    print(\"Temp in C is \",cel)\n",
    "else:\n",
    "    print(\"Please enter a valid value\")\n",
    "   \n",
    "     \n",
    "\n"
   ]
  },
  {
   "cell_type": "markdown",
   "id": "347a876c",
   "metadata": {},
   "source": [
    "## A company decided to give bonus of 5% to employees who have worked for more than 5 years. Ask user for their salary and year of service and print the net bonus amount."
   ]
  },
  {
   "cell_type": "code",
   "execution_count": 2,
   "id": "ac19f1c9",
   "metadata": {},
   "outputs": [
    {
     "name": "stdout",
     "output_type": "stream",
     "text": [
      "Enter your salary 50000\n",
      "Enter year of service 1998\n",
      "Your net salary is  52500.0\n"
     ]
    }
   ],
   "source": [
    "sal=int(input(\"Enter your salary \"))\n",
    "year=int(input(\"Enter year of service \"))\n",
    "current=2023\n",
    "if(current-year>5):\n",
    "    sal=sal+sal*0.05\n",
    "    print(\"Your net salary is \",sal)\n",
    "else:\n",
    "    print(\"You are not eligible for bonus\")"
   ]
  },
  {
   "cell_type": "markdown",
   "id": "a7e2c9d3",
   "metadata": {},
   "source": [
    "## Write a program to take input of length and width from user and check if it's square or not"
   ]
  },
  {
   "cell_type": "code",
   "execution_count": 4,
   "id": "b7f34208",
   "metadata": {},
   "outputs": [
    {
     "name": "stdout",
     "output_type": "stream",
     "text": [
      "Enter the first side 4\n",
      "Enter the second side 4\n",
      "It's a square\n"
     ]
    }
   ],
   "source": [
    "a=int(input(\"Enter the first side \"))\n",
    "b=int(input(\"Enter the second side \"))\n",
    "if a==b:\n",
    "    print(\"It's a square\")\n",
    "else:\n",
    "    print(\"It's not a square\")"
   ]
  },
  {
   "cell_type": "markdown",
   "id": "e6e4ab44",
   "metadata": {},
   "source": [
    "## Take input of age of 3 people by user and determine the oldest and youngest among them"
   ]
  },
  {
   "cell_type": "code",
   "execution_count": 1,
   "id": "671c0e69",
   "metadata": {},
   "outputs": [
    {
     "name": "stdout",
     "output_type": "stream",
     "text": [
      "Enter 1st age 4\n",
      "Enter 2nd age 5\n",
      "Enter 3rd age  4\n",
      "greatest age is  4\n",
      "smallest age is  4\n"
     ]
    }
   ],
   "source": [
    "a=int(input(\"Enter 1st age \"))\n",
    "b=int(input(\"Enter 2nd age \"))\n",
    "c=int(input(\"Enter 3rd age  \"))\n",
    "if((a>b and a>c) or (a==b or a==c)):\n",
    "    print(\"greatest age is \",a)\n",
    "elif((b>a and b>c) or (b==a or b==c)):\n",
    "    print(\"greatest age is \",b)\n",
    "else:\n",
    "    print(\"greatest age is \",c)\n",
    "\n",
    "if(a<b and a<c):\n",
    "    print(\"smallest age is \",a)\n",
    "elif(b<a and b<c):\n",
    "    print(\"smallest age is \",b)\n",
    "else:\n",
    "    print(\"smallest age is \",c)"
   ]
  },
  {
   "cell_type": "markdown",
   "id": "88b702ae",
   "metadata": {},
   "source": [
    "## A school has following rules for grading system:\n",
    "1.Below 25-F\n",
    "2.25 to 45-E\n",
    "3.45 to 50-D\n",
    "4.50 to 60-C\n",
    "5.60 to 80-B\n",
    "6. Above 80-A\n",
    "Ask user to enter marks and print the corresponding grade"
   ]
  },
  {
   "cell_type": "code",
   "execution_count": 11,
   "id": "7dd85362",
   "metadata": {},
   "outputs": [
    {
     "name": "stdout",
     "output_type": "stream",
     "text": [
      "Enter marks of student 60\n",
      "B\n"
     ]
    }
   ],
   "source": [
    "num=int(input(\"Enter marks of student \"))\n",
    "if(num>80):\n",
    "    print(\"A\")\n",
    "elif(num>=60 and num<=80):\n",
    "    print(\"B\")\n",
    "elif(num>=50 and num<60):\n",
    "    print(\"C\")\n",
    "elif(num>=45 and num<50):\n",
    "    print(\"D\")\n",
    "elif(num>=25 and num<45):\n",
    "    print(\"E\")\n",
    "elif(num<25):\n",
    "    print(\"F\")\n",
    "else:\n",
    "    print(\"Please enter marks out of 100\")"
   ]
  },
  {
   "cell_type": "code",
   "execution_count": null,
   "id": "9126c836",
   "metadata": {},
   "outputs": [],
   "source": []
  }
 ],
 "metadata": {
  "kernelspec": {
   "display_name": "Python 3 (ipykernel)",
   "language": "python",
   "name": "python3"
  },
  "language_info": {
   "codemirror_mode": {
    "name": "ipython",
    "version": 3
   },
   "file_extension": ".py",
   "mimetype": "text/x-python",
   "name": "python",
   "nbconvert_exporter": "python",
   "pygments_lexer": "ipython3",
   "version": "3.9.13"
  }
 },
 "nbformat": 4,
 "nbformat_minor": 5
}
