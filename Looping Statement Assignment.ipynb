{
 "cells": [
  {
   "cell_type": "markdown",
   "id": "04f4a72e",
   "metadata": {},
   "source": [
    "## Print the number"
   ]
  },
  {
   "cell_type": "code",
   "execution_count": 7,
   "id": "0b58a1ef",
   "metadata": {},
   "outputs": [
    {
     "name": "stdout",
     "output_type": "stream",
     "text": [
      "Enter the number 5\n",
      "Count is  1\n",
      "Count is  2\n",
      "Count is  3\n",
      "Count is  4\n",
      "Out of loop\n"
     ]
    }
   ],
   "source": [
    "n=int(input(\"Enter the number \"))\n",
    "for i in range(1,n):\n",
    "    print(\"Count is \", i)\n",
    "    i+=1\n",
    "print(\"Out of loop\")"
   ]
  },
  {
   "cell_type": "markdown",
   "id": "6e945d96",
   "metadata": {},
   "source": [
    "## Factorial of a number"
   ]
  },
  {
   "cell_type": "code",
   "execution_count": 11,
   "id": "9d750352",
   "metadata": {},
   "outputs": [
    {
     "name": "stdout",
     "output_type": "stream",
     "text": [
      "Enter a number 5\n",
      "120\n"
     ]
    }
   ],
   "source": [
    "n=int(input(\"Enter a number \"))\n",
    "fact=1\n",
    "i=1\n",
    "for i in range(1,n+1):\n",
    "    fact=fact*i\n",
    "    i+=1\n",
    "print(fact)"
   ]
  },
  {
   "cell_type": "code",
   "execution_count": 12,
   "id": "d63e1296",
   "metadata": {},
   "outputs": [
    {
     "name": "stdout",
     "output_type": "stream",
     "text": [
      "Enter a number 5\n",
      "1\n",
      "2\n",
      "6\n",
      "24\n",
      "120\n"
     ]
    }
   ],
   "source": [
    "n=int(input(\"Enter a number \"))\n",
    "fact=1\n",
    "i=1\n",
    "for i in range(1,n+1):\n",
    "    fact=fact*i\n",
    "    i+=1\n",
    "    print(fact)"
   ]
  },
  {
   "cell_type": "markdown",
   "id": "8939f2e1",
   "metadata": {},
   "source": [
    "## Table of a number"
   ]
  },
  {
   "cell_type": "code",
   "execution_count": 15,
   "id": "cfdc5156",
   "metadata": {},
   "outputs": [
    {
     "name": "stdout",
     "output_type": "stream",
     "text": [
      "Enter a number 6\n",
      " 6 *  1 = 6\n",
      " 6 *  2 = 12\n",
      " 6 *  3 = 18\n",
      " 6 *  4 = 24\n",
      " 6 *  5 = 30\n",
      " 6 *  6 = 36\n",
      " 6 *  7 = 42\n",
      " 6 *  8 = 48\n",
      " 6 *  9 = 54\n",
      " 6 *  10 = 60\n"
     ]
    }
   ],
   "source": [
    "n=int(input(\"Enter a number \"))\n",
    "for i in range(1,11):\n",
    "    print(\"\",n,\"*\",\"\",i,\"=\",i*n)\n"
   ]
  },
  {
   "cell_type": "markdown",
   "id": "4de1e9bf",
   "metadata": {},
   "source": [
    "## Print Even number from 1 to 100"
   ]
  },
  {
   "cell_type": "code",
   "execution_count": 16,
   "id": "9d973b65",
   "metadata": {},
   "outputs": [
    {
     "name": "stdout",
     "output_type": "stream",
     "text": [
      "2\n",
      "4\n",
      "6\n",
      "8\n",
      "10\n",
      "12\n",
      "14\n",
      "16\n",
      "18\n",
      "20\n",
      "22\n",
      "24\n",
      "26\n",
      "28\n",
      "30\n",
      "32\n",
      "34\n",
      "36\n",
      "38\n",
      "40\n",
      "42\n",
      "44\n",
      "46\n",
      "48\n",
      "50\n",
      "52\n",
      "54\n",
      "56\n",
      "58\n",
      "60\n",
      "62\n",
      "64\n",
      "66\n",
      "68\n",
      "70\n",
      "72\n",
      "74\n",
      "76\n",
      "78\n",
      "80\n",
      "82\n",
      "84\n",
      "86\n",
      "88\n",
      "90\n",
      "92\n",
      "94\n",
      "96\n",
      "98\n",
      "100\n"
     ]
    }
   ],
   "source": [
    "for i in range(1,101):\n",
    "    if(i%2==0):\n",
    "        print(i)"
   ]
  },
  {
   "cell_type": "markdown",
   "id": "c760bbca",
   "metadata": {},
   "source": [
    "## Print odd number from 1 to 100"
   ]
  },
  {
   "cell_type": "code",
   "execution_count": 17,
   "id": "007fc4d5",
   "metadata": {},
   "outputs": [
    {
     "name": "stdout",
     "output_type": "stream",
     "text": [
      "1\n",
      "3\n",
      "5\n",
      "7\n",
      "9\n",
      "11\n",
      "13\n",
      "15\n",
      "17\n",
      "19\n",
      "21\n",
      "23\n",
      "25\n",
      "27\n",
      "29\n",
      "31\n",
      "33\n",
      "35\n",
      "37\n",
      "39\n",
      "41\n",
      "43\n",
      "45\n",
      "47\n",
      "49\n",
      "51\n",
      "53\n",
      "55\n",
      "57\n",
      "59\n",
      "61\n",
      "63\n",
      "65\n",
      "67\n",
      "69\n",
      "71\n",
      "73\n",
      "75\n",
      "77\n",
      "79\n",
      "81\n",
      "83\n",
      "85\n",
      "87\n",
      "89\n",
      "91\n",
      "93\n",
      "95\n",
      "97\n",
      "99\n"
     ]
    }
   ],
   "source": [
    "for i in range(1,101):\n",
    "    if(i%2!=0):\n",
    "        print(i)"
   ]
  },
  {
   "cell_type": "markdown",
   "id": "6abfa4f1",
   "metadata": {},
   "source": [
    "## Reverse of a number"
   ]
  },
  {
   "cell_type": "code",
   "execution_count": 7,
   "id": "037b8262",
   "metadata": {},
   "outputs": [
    {
     "name": "stdout",
     "output_type": "stream",
     "text": [
      "Enter a number 505\n",
      "Reverse is  505\n"
     ]
    }
   ],
   "source": [
    "n=int(input(\"Enter a number \"))\n",
    "rev=0\n",
    "for i in range(len(str(n))):\n",
    "    rem=n%10\n",
    "    rev=rev*10+rem\n",
    "    n=n//10\n",
    "print(\"Reverse is \",rev)"
   ]
  },
  {
   "cell_type": "code",
   "execution_count": 12,
   "id": "bb1b5015",
   "metadata": {},
   "outputs": [
    {
     "name": "stdout",
     "output_type": "stream",
     "text": [
      "Enter the number: 789\n",
      "The reverse number is = 987\n"
     ]
    }
   ],
   "source": [
    "num = input('Enter the number: ')\n",
    "reverse =\"\"\n",
    "for i in range(len(num), 0, -1):\n",
    "   reverse += num[i-1]\n",
    "print('The reverse number is =', reverse)"
   ]
  },
  {
   "cell_type": "markdown",
   "id": "2f229a9a",
   "metadata": {},
   "source": [
    "## Palindrome of a number"
   ]
  },
  {
   "cell_type": "code",
   "execution_count": 8,
   "id": "61f176ab",
   "metadata": {},
   "outputs": [
    {
     "name": "stdout",
     "output_type": "stream",
     "text": [
      "Enter a number 4556\n",
      "The reverse number is = 6554\n",
      "Its not a palindrome\n"
     ]
    }
   ],
   "source": [
    "n=int(input(\"Enter a number \"))\n",
    "rev=0\n",
    "a=n\n",
    "for i in range(len(str(n))):\n",
    "    rem=n%10\n",
    "    rev=rev*10+rem\n",
    "    n=n//10\n",
    "\n",
    "print('The reverse number is =', rev)\n",
    "if a==rev:\n",
    "    print(\"Its a palindrome\")\n",
    "else:\n",
    "    print(\"Its not a palindrome\")"
   ]
  },
  {
   "cell_type": "markdown",
   "id": "f9dcea02",
   "metadata": {},
   "source": [
    "## Factors of a number"
   ]
  },
  {
   "cell_type": "code",
   "execution_count": 34,
   "id": "5f5f19b4",
   "metadata": {},
   "outputs": [
    {
     "name": "stdout",
     "output_type": "stream",
     "text": [
      "Enter the number: 125\n",
      "1\n",
      "5\n",
      "25\n",
      "125\n"
     ]
    }
   ],
   "source": [
    "num =int(input('Enter the number: '))\n",
    "for i in range(1,num+1):\n",
    "    if num%i==0:\n",
    "        print(i)"
   ]
  },
  {
   "cell_type": "markdown",
   "id": "523f6a14",
   "metadata": {},
   "source": [
    "## Prime number or not"
   ]
  },
  {
   "cell_type": "code",
   "execution_count": 44,
   "id": "39e64ff3",
   "metadata": {},
   "outputs": [
    {
     "name": "stdout",
     "output_type": "stream",
     "text": [
      "Enter the number: 91\n",
      "Not prime\n"
     ]
    }
   ],
   "source": [
    "num =int(input('Enter the number: '))\n",
    "count=0\n",
    "for i in range(1,num+1):\n",
    "    if num%i==0:\n",
    "        count+=1\n",
    "        \n",
    "if count>2:\n",
    "    print(\"Not prime\")\n",
    "else:\n",
    "    print(\"It's a prime no.\")"
   ]
  },
  {
   "cell_type": "markdown",
   "id": "cdfc2161",
   "metadata": {},
   "source": [
    "## Print prime numbers from 1 to 100"
   ]
  },
  {
   "cell_type": "code",
   "execution_count": 43,
   "id": "f43439c6",
   "metadata": {},
   "outputs": [
    {
     "name": "stdout",
     "output_type": "stream",
     "text": [
      "2\n",
      "3\n",
      "5\n",
      "7\n",
      "11\n",
      "13\n",
      "17\n",
      "19\n",
      "23\n",
      "29\n",
      "31\n",
      "37\n",
      "41\n",
      "43\n",
      "47\n",
      "53\n",
      "59\n",
      "61\n",
      "67\n",
      "71\n",
      "73\n",
      "79\n",
      "83\n",
      "89\n",
      "97\n"
     ]
    }
   ],
   "source": [
    "for num in range (1, 101):\n",
    "    count = 0\n",
    "    for i in range(2, (num//2 + 1)):\n",
    "        if(num % i == 0):\n",
    "            count = count + 1\n",
    "            break\n",
    "\n",
    "    if (count == 0 and num != 1):\n",
    "        print(num)\n",
    "        \n"
   ]
  },
  {
   "cell_type": "code",
   "execution_count": 45,
   "id": "c485c5fa",
   "metadata": {},
   "outputs": [
    {
     "name": "stdout",
     "output_type": "stream",
     "text": [
      "Enter the number: 5\n",
      "1\n",
      "8\n",
      "27\n",
      "64\n",
      "125\n"
     ]
    }
   ],
   "source": [
    "num =int(input('Enter the number: '))\n",
    "for i in range(1,num+1):\n",
    "    print(i**3)"
   ]
  },
  {
   "cell_type": "markdown",
   "id": "99db5376",
   "metadata": {},
   "source": [
    "## Write a program to print the following number pattern using a loop"
   ]
  },
  {
   "cell_type": "markdown",
   "id": "2260cbb6",
   "metadata": {},
   "source": [
    "1\n",
    "12\n",
    "123\n",
    "1234\n",
    "12345"
   ]
  },
  {
   "cell_type": "code",
   "execution_count": 50,
   "id": "b4c94e05",
   "metadata": {},
   "outputs": [
    {
     "name": "stdout",
     "output_type": "stream",
     "text": [
      "1\n",
      "12\n",
      "123\n",
      "1234\n",
      "12345\n"
     ]
    }
   ],
   "source": [
    "for i in range(1,6): \n",
    "    for j in range (1,i+1): \n",
    "        print(j,end=\"\")\n",
    "    print()"
   ]
  },
  {
   "cell_type": "code",
   "execution_count": null,
   "id": "fbc09090",
   "metadata": {},
   "outputs": [],
   "source": [
    "1\n",
    "22\n",
    "333\n",
    "4444\n",
    "55555"
   ]
  },
  {
   "cell_type": "code",
   "execution_count": 51,
   "id": "cbad09dc",
   "metadata": {},
   "outputs": [
    {
     "name": "stdout",
     "output_type": "stream",
     "text": [
      "1\n",
      "22\n",
      "333\n",
      "4444\n",
      "55555\n"
     ]
    }
   ],
   "source": [
    "for i in range(1,6): \n",
    "    for j in range (1,i+1): \n",
    "        print(i,end=\"\") \n",
    "    print()"
   ]
  },
  {
   "cell_type": "code",
   "execution_count": 20,
   "id": "bf4c03f3",
   "metadata": {},
   "outputs": [
    {
     "name": "stdout",
     "output_type": "stream",
     "text": [
      "54321\n",
      "5432\n",
      "543\n",
      "54\n",
      "5\n"
     ]
    }
   ],
   "source": [
    "for i in range(0,5):\n",
    "    for j in range (5,i,-1): \n",
    "        print(j,end=\"\")\n",
    "        \n",
    "    print()"
   ]
  },
  {
   "cell_type": "code",
   "execution_count": 30,
   "id": "0b476961",
   "metadata": {},
   "outputs": [
    {
     "name": "stdout",
     "output_type": "stream",
     "text": [
      "12345\n",
      "1234\n",
      "123\n",
      "12\n",
      "1\n"
     ]
    }
   ],
   "source": [
    "for i in range(6,1,-1):\n",
    "    for j in range (1,i): \n",
    "        print(j,end=\"\")\n",
    "        \n",
    "    print()"
   ]
  },
  {
   "cell_type": "code",
   "execution_count": 1,
   "id": "f7763ffd",
   "metadata": {},
   "outputs": [
    {
     "name": "stdout",
     "output_type": "stream",
     "text": [
      "54321\n",
      "4321\n",
      "321\n",
      "21\n",
      "1\n"
     ]
    }
   ],
   "source": [
    "for i in range(5,0,-1):\n",
    "    for j in range (i,0,-1): \n",
    "        print(j,end=\"\")\n",
    "        \n",
    "    print()"
   ]
  },
  {
   "cell_type": "markdown",
   "id": "a76e1651",
   "metadata": {},
   "source": [
    "## Cube till a number input by user"
   ]
  },
  {
   "cell_type": "code",
   "execution_count": 2,
   "id": "4215e6b3",
   "metadata": {},
   "outputs": [
    {
     "name": "stdout",
     "output_type": "stream",
     "text": [
      "Enter a number 9\n",
      "1\n",
      "8\n",
      "27\n",
      "64\n",
      "125\n",
      "216\n",
      "343\n",
      "512\n",
      "729\n"
     ]
    }
   ],
   "source": [
    "n=int(input(\"Enter a number \"))\n",
    "for i in range(1,n+1):\n",
    "    print(i**3)\n"
   ]
  },
  {
   "cell_type": "markdown",
   "id": "3c59c3c9",
   "metadata": {},
   "source": [
    "## Counts the number of characters in string"
   ]
  },
  {
   "cell_type": "code",
   "execution_count": 9,
   "id": "cbc838aa",
   "metadata": {},
   "outputs": [
    {
     "name": "stdout",
     "output_type": "stream",
     "text": [
      "2\n"
     ]
    }
   ],
   "source": [
    "str = \"testing for loops\"\n",
    "count = 0\n",
    "\n",
    "for x in str:\n",
    "  if x == 't':\n",
    "    count += 1\n",
    "\n",
    "print(count)"
   ]
  },
  {
   "cell_type": "code",
   "execution_count": null,
   "id": "9092644a",
   "metadata": {},
   "outputs": [],
   "source": []
  }
 ],
 "metadata": {
  "kernelspec": {
   "display_name": "Python 3 (ipykernel)",
   "language": "python",
   "name": "python3"
  },
  "language_info": {
   "codemirror_mode": {
    "name": "ipython",
    "version": 3
   },
   "file_extension": ".py",
   "mimetype": "text/x-python",
   "name": "python",
   "nbconvert_exporter": "python",
   "pygments_lexer": "ipython3",
   "version": "3.9.13"
  }
 },
 "nbformat": 4,
 "nbformat_minor": 5
}
