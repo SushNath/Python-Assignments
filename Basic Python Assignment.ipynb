{
 "cells": [
  {
   "cell_type": "markdown",
   "id": "1ddeffe9",
   "metadata": {},
   "source": [
    "## 1. Write a program to print your Introduction"
   ]
  },
  {
   "cell_type": "code",
   "execution_count": 2,
   "id": "33890080",
   "metadata": {},
   "outputs": [
    {
     "name": "stdout",
     "output_type": "stream",
     "text": [
      "I am Sushmita Nath. I have done BTech in Aeronautical Engineering and I am currently working in Amazon as SPS Associate.\n"
     ]
    }
   ],
   "source": [
    "print(\"I am Sushmita Nath. I have done BTech in Aeronautical Engineering and I am currently working in Amazon as SPS Associate.\")"
   ]
  },
  {
   "cell_type": "markdown",
   "id": "515714d4",
   "metadata": {},
   "source": [
    "## 2. Write a program to perform the following operations"
   ]
  },
  {
   "cell_type": "markdown",
   "id": "b2628127",
   "metadata": {},
   "source": [
    "### Addition"
   ]
  },
  {
   "cell_type": "code",
   "execution_count": 3,
   "id": "41428f2a",
   "metadata": {},
   "outputs": [
    {
     "name": "stdout",
     "output_type": "stream",
     "text": [
      "Enter first num45\n",
      "Enter Second num56\n",
      "Sum is  101\n"
     ]
    }
   ],
   "source": [
    "x=int(input(\"Enter first num\"))\n",
    "y=int(input(\"Enter Second num\"))\n",
    "sum=x+y\n",
    "print(\"Sum is \",sum)"
   ]
  },
  {
   "cell_type": "markdown",
   "id": "210d940e",
   "metadata": {},
   "source": [
    "### Subtraction"
   ]
  },
  {
   "cell_type": "code",
   "execution_count": 4,
   "id": "907315e7",
   "metadata": {},
   "outputs": [
    {
     "name": "stdout",
     "output_type": "stream",
     "text": [
      "Enter first num78\n",
      "Enter Second num78\n",
      "Difference is  0\n"
     ]
    }
   ],
   "source": [
    "x=int(input(\"Enter first num\"))\n",
    "y=int(input(\"Enter Second num\"))\n",
    "diff=x-y\n",
    "print(\"Difference is \",diff)"
   ]
  },
  {
   "cell_type": "markdown",
   "id": "df28f9b4",
   "metadata": {},
   "source": [
    "### Multiplication"
   ]
  },
  {
   "cell_type": "code",
   "execution_count": 6,
   "id": "c57beb92",
   "metadata": {},
   "outputs": [
    {
     "name": "stdout",
     "output_type": "stream",
     "text": [
      "Enter first num5\n",
      "Enter Second num6\n",
      "Product is  30\n"
     ]
    }
   ],
   "source": [
    "x=int(input(\"Enter first num\"))\n",
    "y=int(input(\"Enter Second num\"))\n",
    "product=x*y\n",
    "print(\"Product is \",product)"
   ]
  },
  {
   "cell_type": "markdown",
   "id": "be79685d",
   "metadata": {},
   "source": [
    "### Division"
   ]
  },
  {
   "cell_type": "code",
   "execution_count": 7,
   "id": "75bcfba0",
   "metadata": {},
   "outputs": [
    {
     "name": "stdout",
     "output_type": "stream",
     "text": [
      "Enter first num90\n",
      "Enter Second num9\n",
      "Division is  10.0\n"
     ]
    }
   ],
   "source": [
    "x=int(input(\"Enter first num\"))\n",
    "y=int(input(\"Enter Second num\"))\n",
    "div=x/y\n",
    "print(\"Division is \",div)"
   ]
  },
  {
   "cell_type": "markdown",
   "id": "a8c65ce8",
   "metadata": {},
   "source": [
    "### Modulus"
   ]
  },
  {
   "cell_type": "code",
   "execution_count": 10,
   "id": "69740fc7",
   "metadata": {},
   "outputs": [
    {
     "name": "stdout",
     "output_type": "stream",
     "text": [
      "Enter first num10\n",
      "Enter Second num3\n",
      "Remainder is  1\n"
     ]
    }
   ],
   "source": [
    "x=int(input(\"Enter first num\"))\n",
    "y=int(input(\"Enter Second num\"))\n",
    "mod=x%y\n",
    "print(\"Remainder is \",mod)"
   ]
  },
  {
   "cell_type": "markdown",
   "id": "7c1d9eae",
   "metadata": {},
   "source": [
    "### Exponent"
   ]
  },
  {
   "cell_type": "code",
   "execution_count": 11,
   "id": "5a05b509",
   "metadata": {},
   "outputs": [
    {
     "name": "stdout",
     "output_type": "stream",
     "text": [
      "Enter first num5\n",
      "Enter Second num2\n",
      "Exponent is  25\n"
     ]
    }
   ],
   "source": [
    "x=int(input(\"Enter first num\"))\n",
    "y=int(input(\"Enter Second num\"))\n",
    "pow=x**y\n",
    "print(\"Exponent is \",pow)"
   ]
  },
  {
   "cell_type": "markdown",
   "id": "c81d2333",
   "metadata": {},
   "source": [
    "## 3.Write a program to swap two numbers"
   ]
  },
  {
   "cell_type": "code",
   "execution_count": 12,
   "id": "19c8b39e",
   "metadata": {},
   "outputs": [
    {
     "name": "stdout",
     "output_type": "stream",
     "text": [
      "Enter num17\n",
      "Enter num20\n",
      "Swapped numbers are 0 7\n"
     ]
    }
   ],
   "source": [
    "num1=int(input('Enter num1'))\n",
    "num2=int(input('Enter num2'))\n",
    "num=num1\n",
    "num1=num2\n",
    "num2=num\n",
    "print('Swapped numbers are',num1,num2)"
   ]
  },
  {
   "cell_type": "markdown",
   "id": "bf3d6dea",
   "metadata": {},
   "source": [
    "## 4. Write a program to swap two numbers without third variable"
   ]
  },
  {
   "cell_type": "code",
   "execution_count": 13,
   "id": "1dc89e19",
   "metadata": {},
   "outputs": [
    {
     "name": "stdout",
     "output_type": "stream",
     "text": [
      "Enter num1 6\n",
      "Enter num2 8\n",
      "Swapped nos.are 8 6\n"
     ]
    }
   ],
   "source": [
    "num1=int(input('Enter num1 '))\n",
    "num2=int(input('Enter num2 '))\n",
    "num1=num1+num2\n",
    "num2=num1-num2\n",
    "num1=num1-num2\n",
    "print('Swapped nos.are',num1,num2)"
   ]
  },
  {
   "cell_type": "markdown",
   "id": "1c635797",
   "metadata": {},
   "source": [
    "## 5. Write a program to compute Simple Interest"
   ]
  },
  {
   "cell_type": "code",
   "execution_count": 15,
   "id": "148d714d",
   "metadata": {},
   "outputs": [
    {
     "name": "stdout",
     "output_type": "stream",
     "text": [
      "Enter principal1000\n",
      "Enter rate5\n",
      "Enter time2\n",
      "Simple Interest is 100.0\n"
     ]
    }
   ],
   "source": [
    "principal=int(input('Enter principal'))\n",
    "rate=int(input('Enter rate'))\n",
    "time=int(input('Enter time'))\n",
    "SI=(principal*rate*time)/100\n",
    "print('Simple Interest is',SI)"
   ]
  },
  {
   "cell_type": "markdown",
   "id": "4b223aac",
   "metadata": {},
   "source": [
    "## 6. Write a program to find average of 5 numbers by user input"
   ]
  },
  {
   "cell_type": "code",
   "execution_count": 1,
   "id": "017ca8fa",
   "metadata": {},
   "outputs": [
    {
     "name": "stdout",
     "output_type": "stream",
     "text": [
      "Enter num1 5\n",
      "Enter num2 5\n",
      "Enter num3 5\n",
      "Enter num4 5\n",
      "Enter num5 5\n",
      "Average of 5 nos. is  5.0\n"
     ]
    }
   ],
   "source": [
    "num1=int(input('Enter num1 '))\n",
    "num2=int(input('Enter num2 '))\n",
    "num3=int(input('Enter num3 '))\n",
    "num4=int(input('Enter num4 '))\n",
    "num5=int(input('Enter num5 '))\n",
    "avg=(num1+num2+num3+num4+num5)/5\n",
    "print(\"Average of 5 nos. is \",avg)\n"
   ]
  },
  {
   "cell_type": "markdown",
   "id": "c52c17a9",
   "metadata": {},
   "source": [
    "## 7. Write a program to find discriminant of quadratic equation"
   ]
  },
  {
   "cell_type": "code",
   "execution_count": 1,
   "id": "abc8fc46",
   "metadata": {},
   "outputs": [
    {
     "name": "stdout",
     "output_type": "stream",
     "text": [
      "Enter a 1\n",
      "Enter b 1\n",
      "Enter c1\n",
      "Discriminant is  -3\n"
     ]
    }
   ],
   "source": [
    "a=int(input(\"Enter a \"))\n",
    "b=int(input(\"Enter b \"))\n",
    "c=int(input(\"Enter c\"))\n",
    "dis=(b*b)-(4*a*c)\n",
    "print(\"Discriminant is \",dis)"
   ]
  },
  {
   "cell_type": "markdown",
   "id": "c0f0fda8",
   "metadata": {},
   "source": [
    "## 8. Write a program to find areas of the following shapes"
   ]
  },
  {
   "cell_type": "markdown",
   "id": "65c65794",
   "metadata": {},
   "source": [
    "### Rectangle"
   ]
  },
  {
   "cell_type": "code",
   "execution_count": 3,
   "id": "9ed48bd7",
   "metadata": {},
   "outputs": [
    {
     "name": "stdout",
     "output_type": "stream",
     "text": [
      "Enter length 5\n",
      "Enter width 4\n",
      "Area is  20\n"
     ]
    }
   ],
   "source": [
    "l=int(input(\"Enter length \"))\n",
    "b=int(input(\"Enter width \"))\n",
    "area=l*b\n",
    "print(\"Area is \",area)"
   ]
  },
  {
   "cell_type": "markdown",
   "id": "8af2c266",
   "metadata": {},
   "source": [
    "### Square"
   ]
  },
  {
   "cell_type": "code",
   "execution_count": 5,
   "id": "c2a43df5",
   "metadata": {},
   "outputs": [
    {
     "name": "stdout",
     "output_type": "stream",
     "text": [
      "Enter side 5\n",
      "Area is  25\n"
     ]
    }
   ],
   "source": [
    "a=int(input(\"Enter side \"))\n",
    "area=a*a\n",
    "print(\"Area is \",area)"
   ]
  },
  {
   "cell_type": "markdown",
   "id": "02ffa8e2",
   "metadata": {},
   "source": [
    "### Triangle"
   ]
  },
  {
   "cell_type": "code",
   "execution_count": 6,
   "id": "f5990d79",
   "metadata": {},
   "outputs": [
    {
     "name": "stdout",
     "output_type": "stream",
     "text": [
      "Enter base 6\n",
      "Enter height 7\n",
      "Area is  21.0\n"
     ]
    }
   ],
   "source": [
    "b=int(input(\"Enter base \"))\n",
    "h=int(input(\"Enter height \"))\n",
    "area=0.5*b*h\n",
    "print(\"Area is \",area)"
   ]
  },
  {
   "cell_type": "markdown",
   "id": "ab5177f2",
   "metadata": {},
   "source": [
    "### Circle"
   ]
  },
  {
   "cell_type": "code",
   "execution_count": 7,
   "id": "f5552702",
   "metadata": {},
   "outputs": [
    {
     "name": "stdout",
     "output_type": "stream",
     "text": [
      "Enter radius 5\n",
      "Area is  78.5\n"
     ]
    }
   ],
   "source": [
    "r=int(input(\"Enter radius \"))\n",
    "area=3.14*r*r\n",
    "print(\"Area is \",area)"
   ]
  },
  {
   "cell_type": "markdown",
   "id": "4c3ab60d",
   "metadata": {},
   "source": [
    "## 9. Write a program to calculate net salary of an employee whose basic salary is entered by user, DA is 5% of basic,HRA is 7% of basic and pf is 3% of basic."
   ]
  },
  {
   "cell_type": "code",
   "execution_count": 18,
   "id": "921d64f7",
   "metadata": {},
   "outputs": [
    {
     "name": "stdout",
     "output_type": "stream",
     "text": [
      "Enter Basic salary 1000\n",
      "Total Salary  1150.0\n"
     ]
    }
   ],
   "source": [
    "Sal=int(input(\"Enter Basic salary \"))\n",
    "DA=0.05*Sal\n",
    "HRA=0.07*Sal\n",
    "PF=0.03*Sal\n",
    "Net=Sal+DA+HRA+PF\n",
    "print(\"Total Salary \",Net)"
   ]
  },
  {
   "cell_type": "markdown",
   "id": "e8e14303",
   "metadata": {},
   "source": [
    "## 10. Write a program to display power of a number"
   ]
  },
  {
   "cell_type": "code",
   "execution_count": 11,
   "id": "a4d0a26a",
   "metadata": {},
   "outputs": [
    {
     "name": "stdout",
     "output_type": "stream",
     "text": [
      "Enter a number 5\n",
      "Enter the power 2\n",
      "The power of  5 raise to 2 is  25\n"
     ]
    }
   ],
   "source": [
    "a=int(input(\"Enter a number \"))\n",
    "b=int(input(\"Enter the power \"))\n",
    "pow=a**b\n",
    "print(\"The power of \",a,\"raise to\",b, \"is \",pow)"
   ]
  },
  {
   "cell_type": "markdown",
   "id": "e6be52c4",
   "metadata": {},
   "source": [
    "## 11. Write a program to display the python version you are using"
   ]
  },
  {
   "cell_type": "code",
   "execution_count": 15,
   "id": "a09c62c1",
   "metadata": {},
   "outputs": [
    {
     "name": "stdout",
     "output_type": "stream",
     "text": [
      "3.9.13\n"
     ]
    }
   ],
   "source": [
    "from platform import python_version\n",
    "print(python_version())"
   ]
  },
  {
   "cell_type": "code",
   "execution_count": null,
   "id": "d305360f",
   "metadata": {},
   "outputs": [],
   "source": []
  }
 ],
 "metadata": {
  "kernelspec": {
   "display_name": "Python 3 (ipykernel)",
   "language": "python",
   "name": "python3"
  },
  "language_info": {
   "codemirror_mode": {
    "name": "ipython",
    "version": 3
   },
   "file_extension": ".py",
   "mimetype": "text/x-python",
   "name": "python",
   "nbconvert_exporter": "python",
   "pygments_lexer": "ipython3",
   "version": "3.9.13"
  }
 },
 "nbformat": 4,
 "nbformat_minor": 5
}
